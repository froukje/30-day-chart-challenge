{
 "cells": [
  {
   "cell_type": "markdown",
   "id": "09b4f29a",
   "metadata": {},
   "source": [
    "# Objective\n",
    "\n",
    "**Day 21 of the [#30DayChartChallenge challenge](https://github.com/Z3tt/30DayChartChallenge_Collection2021/blob/main/README.md)**\n",
    "\n",
    "**Topic: 21. downwards**\n",
    "    \n",
    "Data used: self"
   ]
  },
  {
   "cell_type": "markdown",
   "id": "44244b93",
   "metadata": {},
   "source": [
    "# Setup"
   ]
  },
  {
   "cell_type": "code",
   "execution_count": 2,
   "id": "8738f8d6",
   "metadata": {},
   "outputs": [],
   "source": [
    "import matplotlib.patches as mpatches\n",
    "import matplotlib.pyplot as plt"
   ]
  },
  {
   "cell_type": "markdown",
   "id": "2a9a28eb",
   "metadata": {},
   "source": [
    "# Plot"
   ]
  },
  {
   "cell_type": "code",
   "execution_count": 50,
   "id": "866ce808",
   "metadata": {},
   "outputs": [],
   "source": [
    "x_tail1 = 0.1\n",
    "y_tail1 = 3.9\n",
    "x_head1 = 0.9\n",
    "y_head1 = 3.1\n",
    "\n",
    "x_tail2 = 1.1\n",
    "y_tail2 = 3.2\n",
    "x_head2 = 1.9\n",
    "y_head2 = 3.1\n",
    "\n",
    "x_tail3 = 2.1\n",
    "y_tail3 = 3.0\n",
    "x_head3 = 2.9\n",
    "y_head3 = 2.1\n",
    "\n",
    "x_tail4 = 3.1\n",
    "y_tail4 = 1.9\n",
    "x_head4 = 3.9\n",
    "y_head4 = 0.1"
   ]
  },
  {
   "cell_type": "code",
   "execution_count": 52,
   "id": "90644d35",
   "metadata": {},
   "outputs": [
    {
     "data": {
      "image/png": "[encoded data removed]",
      "text/plain": [
       "<Figure size 576x360 with 1 Axes>"
      ]
     },
     "metadata": {},
     "output_type": "display_data"
    }
   ],
   "source": [
    "fig, ax = plt.subplots(1, 1, figsize=(8,5))\n",
    "arrow1 = mpatches.FancyArrowPatch((x_tail1, y_tail1), (x_head1, y_head1),\n",
    "                                 mutation_scale=50, color='#C0392B')\n",
    "arrow2 = mpatches.FancyArrowPatch((x_tail2, y_tail2), (x_head2, y_head2),\n",
    "                                 mutation_scale=50, color='#C0392B')\n",
    "arrow3 = mpatches.FancyArrowPatch((x_tail3, y_tail3), (x_head3, y_head3),\n",
    "                                 mutation_scale=50, color='#C0392B')\n",
    "arrow4 = mpatches.FancyArrowPatch((x_tail4, y_tail4), (x_head4, y_head4),\n",
    "                                 mutation_scale=50, color='#C0392B')\n",
    "ax.add_patch(arrow1)\n",
    "ax.add_patch(arrow2)\n",
    "ax.add_patch(arrow3)\n",
    "ax.add_patch(arrow4)\n",
    "ax.set_facecolor('#FEF9E7')\n",
    "ax.tick_params(top=False, bottom=False, left=False, right=False,\n",
    "                labelleft=False, labelbottom=False)\n",
    "ax.set_xlim(0,4)\n",
    "ax.set_ylim(0,4)\n",
    "plt.savefig(\"../plots/day21_downwards.png\");"
   ]
  },
  {
   "cell_type": "code",
   "execution_count": null,
   "id": "3bc3c9f6",
   "metadata": {},
   "outputs": [],
   "source": []
  },
  {
   "cell_type": "code",
   "execution_count": null,
   "id": "7ec40c9c",
   "metadata": {},
   "outputs": [],
   "source": []
  }
 ],
 "metadata": {
  "kernelspec": {
   "display_name": "Python 3",
   "language": "python",
   "name": "python3"
  },
  "language_info": {
   "codemirror_mode": {
    "name": "ipython",
    "version": 3
   },
   "file_extension": ".py",
   "mimetype": "text/x-python",
   "name": "python",
   "nbconvert_exporter": "python",
   "pygments_lexer": "ipython3",
   "version": "3.8.8"
  }
 },
 "nbformat": 4,
 "nbformat_minor": 5
}

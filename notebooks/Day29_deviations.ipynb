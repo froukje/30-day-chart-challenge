{
 "cells": [
  {
   "cell_type": "markdown",
   "id": "e2148c24",
   "metadata": {},
   "source": [
    "# Objective\n",
    "\n",
    "**Day 29 of the [#30DayChartChallenge challenge](https://github.com/Z3tt/30DayChartChallenge_Collection2021/blob/main/README.md)**\n",
    "\n",
    "**Topic: 29. deviations**\n",
    "\n",
    "Used Dataset: https://www.kaggle.com/neuromusic/avocado-prices\n",
    "\n",
    "Source: https://towardsdatascience.com/the-quick-and-easy-way-to-plot-error-bars-in-python-using-pandas-a4d5cca2695d"
   ]
  },
  {
   "cell_type": "markdown",
   "id": "4162396d",
   "metadata": {},
   "source": [
    "# Setup"
   ]
  },
  {
   "cell_type": "code",
   "execution_count": 10,
   "id": "7d51931a",
   "metadata": {},
   "outputs": [],
   "source": [
    "import pandas as pd\n",
    "import numpy as np\n",
    "import scipy.stats as sp\n",
    "import matplotlib.pyplot as plt"
   ]
  },
  {
   "cell_type": "markdown",
   "id": "80f7ff7e",
   "metadata": {},
   "source": [
    "# Read Data"
   ]
  },
  {
   "cell_type": "code",
   "execution_count": 11,
   "id": "52511838",
   "metadata": {},
   "outputs": [],
   "source": [
    "df_avocado = pd.read_csv(\"../data/avocados/avocado.csv\")"
   ]
  },
  {
   "cell_type": "markdown",
   "id": "cb9df486",
   "metadata": {},
   "source": [
    "# Prepare Data"
   ]
  },
  {
   "cell_type": "code",
   "execution_count": 12,
   "id": "27a69070",
   "metadata": {},
   "outputs": [],
   "source": [
    "def double_std(array):\n",
    "    return np.std(array) * 2"
   ]
  },
  {
   "cell_type": "code",
   "execution_count": 13,
   "id": "a19be401",
   "metadata": {},
   "outputs": [],
   "source": [
    "avocado_prices = df_avocado.groupby(\"type\").agg([np.mean, double_std, sp.sem])"
   ]
  },
  {
   "cell_type": "code",
   "execution_count": 14,
   "id": "ff476245",
   "metadata": {},
   "outputs": [
    {
     "data": {
      "text/html": [
       "<div>\n",
       "<style scoped>\n",
       "    .dataframe tbody tr th:only-of-type {\n",
       "        vertical-align: middle;\n",
       "    }\n",
       "\n",
       "    .dataframe tbody tr th {\n",
       "        vertical-align: top;\n",
       "    }\n",
       "\n",
       "    .dataframe thead th {\n",
       "        text-align: right;\n",
       "    }\n",
       "</style>\n",
       "<table border=\"1\" class=\"dataframe\">\n",
       "  <thead>\n",
       "    <tr style=\"text-align: right;\">\n",
       "      <th></th>\n",
       "      <th>mean</th>\n",
       "      <th>double_std</th>\n",
       "      <th>sem</th>\n",
       "    </tr>\n",
       "    <tr>\n",
       "      <th>type</th>\n",
       "      <th></th>\n",
       "      <th></th>\n",
       "      <th></th>\n",
       "    </tr>\n",
       "  </thead>\n",
       "  <tbody>\n",
       "    <tr>\n",
       "      <th>conventional</th>\n",
       "      <td>1.158040</td>\n",
       "      <td>0.526052</td>\n",
       "      <td>0.002753</td>\n",
       "    </tr>\n",
       "    <tr>\n",
       "      <th>organic</th>\n",
       "      <td>1.653999</td>\n",
       "      <td>0.726963</td>\n",
       "      <td>0.003806</td>\n",
       "    </tr>\n",
       "  </tbody>\n",
       "</table>\n",
       "</div>"
      ],
      "text/plain": [
       "                  mean  double_std       sem\n",
       "type                                        \n",
       "conventional  1.158040    0.526052  0.002753\n",
       "organic       1.653999    0.726963  0.003806"
      ]
     },
     "execution_count": 14,
     "metadata": {},
     "output_type": "execute_result"
    }
   ],
   "source": [
    "avocado_prices = avocado_prices[\"AveragePrice\"]\n",
    "avocado_prices.head()"
   ]
  },
  {
   "cell_type": "markdown",
   "id": "35b203c6",
   "metadata": {},
   "source": [
    "# Plot"
   ]
  },
  {
   "cell_type": "code",
   "execution_count": 17,
   "id": "4aaa7d1d",
   "metadata": {},
   "outputs": [
    {
     "data": {
      "image/png": "[encoded data removed]",
      "text/plain": [
       "<Figure size 432x288 with 1 Axes>"
      ]
     },
     "metadata": {
      "needs_background": "light"
     },
     "output_type": "display_data"
    }
   ],
   "source": [
    "# error bars: standard deviation\n",
    "avocado_prices.plot(kind = \"barh\", y = \"mean\", legend = False, title = \"Average Avocado Prices\", xerr = \"double_std\");"
   ]
  },
  {
   "cell_type": "code",
   "execution_count": 18,
   "id": "12b86a6e",
   "metadata": {},
   "outputs": [
    {
     "data": {
      "image/png": "[encoded data removed]",
      "text/plain": [
       "<Figure size 432x288 with 1 Axes>"
      ]
     },
     "metadata": {
      "needs_background": "light"
     },
     "output_type": "display_data"
    }
   ],
   "source": [
    "# error bars: standard error\n",
    "avocado_prices.plot(kind = \"barh\", y = \"mean\", legend = False, title = \"Average Avocado Prices\", xerr = \"sem\");"
   ]
  },
  {
   "cell_type": "code",
   "execution_count": 29,
   "id": "96292185",
   "metadata": {},
   "outputs": [
    {
     "data": {
      "image/png": "[encoded data removed]",
      "text/plain": [
       "<Figure size 432x288 with 1 Axes>"
      ]
     },
     "metadata": {
      "needs_background": "light"
     },
     "output_type": "display_data"
    }
   ],
   "source": [
    "ax = avocado_prices.plot(kind = \"barh\", y = \"mean\", legend = False, title = \"Average Avocado Prices\", color = [\"steelblue\", \"seagreen\"]) # no error bars added here\n",
    "# X\n",
    "ax.set_xlabel(\"Price ($)\")\n",
    "# Y\n",
    "ax.set_ylabel(\"\")\n",
    "ax.set_yticklabels([\"Conventional\", \"Organic\"])\n",
    "# Overall\n",
    "for key, spine in ax.spines.items():\n",
    "    spine.set_visible(False)\n",
    "ax.tick_params(bottom = False, left = False)\n",
    "ax.errorbar(avocado_prices[\"mean\"], avocado_prices.index, xerr = avocado_prices[\"double_std\"], \n",
    "            linewidth = 1.5, color = \"black\", alpha = 0.4, capsize = 4);\n",
    "plt.savefig(\"../plots/day29_deviations.png\")"
   ]
  },
  {
   "cell_type": "code",
   "execution_count": null,
   "id": "90b0aaf8",
   "metadata": {},
   "outputs": [],
   "source": []
  }
 ],
 "metadata": {
  "kernelspec": {
   "display_name": "Python 3",
   "language": "python",
   "name": "python3"
  },
  "language_info": {
   "codemirror_mode": {
    "name": "ipython",
    "version": 3
   },
   "file_extension": ".py",
   "mimetype": "text/x-python",
   "name": "python",
   "nbconvert_exporter": "python",
   "pygments_lexer": "ipython3",
   "version": "3.8.8"
  }
 },
 "nbformat": 4,
 "nbformat_minor": 5
}

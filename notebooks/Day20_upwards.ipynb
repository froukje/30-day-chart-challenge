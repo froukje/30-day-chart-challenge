{
 "cells": [
  {
   "cell_type": "markdown",
   "id": "31fccd3c",
   "metadata": {},
   "source": [
    "# Objective\n",
    "\n",
    "**Day 20 of the [#30DayChartChallenge challenge](https://github.com/Z3tt/30DayChartChallenge_Collection2021/blob/main/README.md)**\n",
    "\n",
    "**Topic: 20. upwards**\n",
    "    \n",
    "Data used: https://research.csiro.au/slrwavescoast/sea-level/measurements-and-data/sea-level-data/"
   ]
  },
  {
   "cell_type": "markdown",
   "id": "f62629f6",
   "metadata": {},
   "source": [
    "# Setup"
   ]
  },
  {
   "cell_type": "code",
   "execution_count": 2,
   "id": "367f006a",
   "metadata": {},
   "outputs": [],
   "source": [
    "import xarray as xr\n",
    "import numpy as np\n",
    "from sklearn.linear_model import LinearRegression\n",
    "import matplotlib.pyplot as plt\n",
    "import matplotlib\n",
    "matplotlib.style.use('ggplot')"
   ]
  },
  {
   "cell_type": "markdown",
   "id": "b2fdbca7",
   "metadata": {},
   "source": [
    "# Read Data"
   ]
  },
  {
   "cell_type": "code",
   "execution_count": 3,
   "id": "96ccee89",
   "metadata": {},
   "outputs": [],
   "source": [
    "filepath = '../../SL_Plots/Data/jb_iby_sry_gtn_giy.nc'\n",
    "sl = xr.open_dataset(filepath)\n",
    "# read variables\n",
    "lats = sl.variables['lat'].values\n",
    "lons = sl.variables['lon'].values\n",
    "date = sl.variables['time'].values\n",
    "height = sl.variables['height'].values # sea level height\n",
    "gmsl = sl.variables['gmsl'].values # global mean sea level"
   ]
  },
  {
   "cell_type": "code",
   "execution_count": 4,
   "id": "92bd608d",
   "metadata": {},
   "outputs": [
    {
     "data": {
      "text/html": [
       "<div><svg style=\"position: absolute; width: 0; height: 0; overflow: hidden\">\n",
       "<defs>\n",
       "<symbol id=\"icon-database\" viewBox=\"0 0 32 32\">\n",
       "<path d=\"M16 0c-8.837 0-16 2.239-16 5v4c0 2.761 7.163 5 16 5s16-2.239 16-5v-4c0-2.761-7.163-5-16-5z\"></path>\n",
       "<path d=\"M16 17c-8.837 0-16-2.239-16-5v6c0 2.761 7.163 5 16 5s16-2.239 16-5v-6c0 2.761-7.163 5-16 5z\"></path>\n",
       "<path d=\"M16 26c-8.837 0-16-2.239-16-5v6c0 2.761 7.163 5 16 5s16-2.239 16-5v-6c0 2.761-7.163 5-16 5z\"></path>\n",
       "</symbol>\n",
       "<symbol id=\"icon-file-text2\" viewBox=\"0 0 32 32\">\n",
       "<path d=\"M28.681 7.159c-0.694-0.947-1.662-2.053-2.724-3.116s-2.169-2.030-3.116-2.724c-1.612-1.182-2.393-1.319-2.841-1.319h-15.5c-1.378 0-2.5 1.121-2.5 2.5v27c0 1.378 1.122 2.5 2.5 2.5h23c1.378 0 2.5-1.122 2.5-2.5v-19.5c0-0.448-0.137-1.23-1.319-2.841zM24.543 5.457c0.959 0.959 1.712 1.825 2.268 2.543h-4.811v-4.811c0.718 0.556 1.584 1.309 2.543 2.268zM28 29.5c0 0.271-0.229 0.5-0.5 0.5h-23c-0.271 0-0.5-0.229-0.5-0.5v-27c0-0.271 0.229-0.5 0.5-0.5 0 0 15.499-0 15.5 0v7c0 0.552 0.448 1 1 1h7v19.5z\"></path>\n",
       "<path d=\"M23 26h-14c-0.552 0-1-0.448-1-1s0.448-1 1-1h14c0.552 0 1 0.448 1 1s-0.448 1-1 1z\"></path>\n",
       "<path d=\"M23 22h-14c-0.552 0-1-0.448-1-1s0.448-1 1-1h14c0.552 0 1 0.448 1 1s-0.448 1-1 1z\"></path>\n",
       "<path d=\"M23 18h-14c-0.552 0-1-0.448-1-1s0.448-1 1-1h14c0.552 0 1 0.448 1 1s-0.448 1-1 1z\"></path>\n",
       "</symbol>\n",
       "</defs>\n",
       "</svg>\n",
       "<style>/* CSS stylesheet for displaying xarray objects in jupyterlab.\n",
       " *\n",
       " */\n",
       "\n",
       ":root {\n",
       "  --xr-font-color0: var(--jp-content-font-color0, rgba(0, 0, 0, 1));\n",
       "  --xr-font-color2: var(--jp-content-font-color2, rgba(0, 0, 0, 0.54));\n",
       "  --xr-font-color3: var(--jp-content-font-color3, rgba(0, 0, 0, 0.38));\n",
       "  --xr-border-color: var(--jp-border-color2, #e0e0e0);\n",
       "  --xr-disabled-color: var(--jp-layout-color3, #bdbdbd);\n",
       "  --xr-background-color: var(--jp-layout-color0, white);\n",
       "  --xr-background-color-row-even: var(--jp-layout-color1, white);\n",
       "  --xr-background-color-row-odd: var(--jp-layout-color2, #eeeeee);\n",
       "}\n",
       "\n",
       "html[theme=dark],\n",
       "body.vscode-dark {\n",
       "  --xr-font-color0: rgba(255, 255, 255, 1);\n",
       "  --xr-font-color2: rgba(255, 255, 255, 0.54);\n",
       "  --xr-font-color3: rgba(255, 255, 255, 0.38);\n",
       "  --xr-border-color: #1F1F1F;\n",
       "  --xr-disabled-color: #515151;\n",
       "  --xr-background-color: #111111;\n",
       "  --xr-background-color-row-even: #111111;\n",
       "  --xr-background-color-row-odd: #313131;\n",
       "}\n",
       "\n",
       ".xr-wrap {\n",
       "  display: block;\n",
       "  min-width: 300px;\n",
       "  max-width: 700px;\n",
       "}\n",
       "\n",
       ".xr-text-repr-fallback {\n",
       "  /* fallback to plain text repr when CSS is not injected (untrusted notebook) */\n",
       "  display: none;\n",
       "}\n",
       "\n",
       ".xr-header {\n",
       "  padding-top: 6px;\n",
       "  padding-bottom: 6px;\n",
       "  margin-bottom: 4px;\n",
       "  border-bottom: solid 1px var(--xr-border-color);\n",
       "}\n",
       "\n",
       ".xr-header > div,\n",
       ".xr-header > ul {\n",
       "  display: inline;\n",
       "  margin-top: 0;\n",
       "  margin-bottom: 0;\n",
       "}\n",
       "\n",
       ".xr-obj-type,\n",
       ".xr-array-name {\n",
       "  margin-left: 2px;\n",
       "  margin-right: 10px;\n",
       "}\n",
       "\n",
       ".xr-obj-type {\n",
       "  color: var(--xr-font-color2);\n",
       "}\n",
       "\n",
       ".xr-sections {\n",
       "  padding-left: 0 !important;\n",
       "  display: grid;\n",
       "  grid-template-columns: 150px auto auto 1fr 20px 20px;\n",
       "}\n",
       "\n",
       ".xr-section-item {\n",
       "  display: contents;\n",
       "}\n",
       "\n",
       ".xr-section-item input {\n",
       "  display: none;\n",
       "}\n",
       "\n",
       ".xr-section-item input + label {\n",
       "  color: var(--xr-disabled-color);\n",
       "}\n",
       "\n",
       ".xr-section-item input:enabled + label {\n",
       "  cursor: pointer;\n",
       "  color: var(--xr-font-color2);\n",
       "}\n",
       "\n",
       ".xr-section-item input:enabled + label:hover {\n",
       "  color: var(--xr-font-color0);\n",
       "}\n",
       "\n",
       ".xr-section-summary {\n",
       "  grid-column: 1;\n",
       "  color: var(--xr-font-color2);\n",
       "  font-weight: 500;\n",
       "}\n",
       "\n",
       ".xr-section-summary > span {\n",
       "  display: inline-block;\n",
       "  padding-left: 0.5em;\n",
       "}\n",
       "\n",
       ".xr-section-summary-in:disabled + label {\n",
       "  color: var(--xr-font-color2);\n",
       "}\n",
       "\n",
       ".xr-section-summary-in + label:before {\n",
       "  display: inline-block;\n",
       "  content: '►';\n",
       "  font-size: 11px;\n",
       "  width: 15px;\n",
       "  text-align: center;\n",
       "}\n",
       "\n",
       ".xr-section-summary-in:disabled + label:before {\n",
       "  color: var(--xr-disabled-color);\n",
       "}\n",
       "\n",
       ".xr-section-summary-in:checked + label:before {\n",
       "  content: '▼';\n",
       "}\n",
       "\n",
       ".xr-section-summary-in:checked + label > span {\n",
       "  display: none;\n",
       "}\n",
       "\n",
       ".xr-section-summary,\n",
       ".xr-section-inline-details {\n",
       "  padding-top: 4px;\n",
       "  padding-bottom: 4px;\n",
       "}\n",
       "\n",
       ".xr-section-inline-details {\n",
       "  grid-column: 2 / -1;\n",
       "}\n",
       "\n",
       ".xr-section-details {\n",
       "  display: none;\n",
       "  grid-column: 1 / -1;\n",
       "  margin-bottom: 5px;\n",
       "}\n",
       "\n",
       ".xr-section-summary-in:checked ~ .xr-section-details {\n",
       "  display: contents;\n",
       "}\n",
       "\n",
       ".xr-array-wrap {\n",
       "  grid-column: 1 / -1;\n",
       "  display: grid;\n",
       "  grid-template-columns: 20px auto;\n",
       "}\n",
       "\n",
       ".xr-array-wrap > label {\n",
       "  grid-column: 1;\n",
       "  vertical-align: top;\n",
       "}\n",
       "\n",
       ".xr-preview {\n",
       "  color: var(--xr-font-color3);\n",
       "}\n",
       "\n",
       ".xr-array-preview,\n",
       ".xr-array-data {\n",
       "  padding: 0 5px !important;\n",
       "  grid-column: 2;\n",
       "}\n",
       "\n",
       ".xr-array-data,\n",
       ".xr-array-in:checked ~ .xr-array-preview {\n",
       "  display: none;\n",
       "}\n",
       "\n",
       ".xr-array-in:checked ~ .xr-array-data,\n",
       ".xr-array-preview {\n",
       "  display: inline-block;\n",
       "}\n",
       "\n",
       ".xr-dim-list {\n",
       "  display: inline-block !important;\n",
       "  list-style: none;\n",
       "  padding: 0 !important;\n",
       "  margin: 0;\n",
       "}\n",
       "\n",
       ".xr-dim-list li {\n",
       "  display: inline-block;\n",
       "  padding: 0;\n",
       "  margin: 0;\n",
       "}\n",
       "\n",
       ".xr-dim-list:before {\n",
       "  content: '(';\n",
       "}\n",
       "\n",
       ".xr-dim-list:after {\n",
       "  content: ')';\n",
       "}\n",
       "\n",
       ".xr-dim-list li:not(:last-child):after {\n",
       "  content: ',';\n",
       "  padding-right: 5px;\n",
       "}\n",
       "\n",
       ".xr-has-index {\n",
       "  font-weight: bold;\n",
       "}\n",
       "\n",
       ".xr-var-list,\n",
       ".xr-var-item {\n",
       "  display: contents;\n",
       "}\n",
       "\n",
       ".xr-var-item > div,\n",
       ".xr-var-item label,\n",
       ".xr-var-item > .xr-var-name span {\n",
       "  background-color: var(--xr-background-color-row-even);\n",
       "  margin-bottom: 0;\n",
       "}\n",
       "\n",
       ".xr-var-item > .xr-var-name:hover span {\n",
       "  padding-right: 5px;\n",
       "}\n",
       "\n",
       ".xr-var-list > li:nth-child(odd) > div,\n",
       ".xr-var-list > li:nth-child(odd) > label,\n",
       ".xr-var-list > li:nth-child(odd) > .xr-var-name span {\n",
       "  background-color: var(--xr-background-color-row-odd);\n",
       "}\n",
       "\n",
       ".xr-var-name {\n",
       "  grid-column: 1;\n",
       "}\n",
       "\n",
       ".xr-var-dims {\n",
       "  grid-column: 2;\n",
       "}\n",
       "\n",
       ".xr-var-dtype {\n",
       "  grid-column: 3;\n",
       "  text-align: right;\n",
       "  color: var(--xr-font-color2);\n",
       "}\n",
       "\n",
       ".xr-var-preview {\n",
       "  grid-column: 4;\n",
       "}\n",
       "\n",
       ".xr-var-name,\n",
       ".xr-var-dims,\n",
       ".xr-var-dtype,\n",
       ".xr-preview,\n",
       ".xr-attrs dt {\n",
       "  white-space: nowrap;\n",
       "  overflow: hidden;\n",
       "  text-overflow: ellipsis;\n",
       "  padding-right: 10px;\n",
       "}\n",
       "\n",
       ".xr-var-name:hover,\n",
       ".xr-var-dims:hover,\n",
       ".xr-var-dtype:hover,\n",
       ".xr-attrs dt:hover {\n",
       "  overflow: visible;\n",
       "  width: auto;\n",
       "  z-index: 1;\n",
       "}\n",
       "\n",
       ".xr-var-attrs,\n",
       ".xr-var-data {\n",
       "  display: none;\n",
       "  background-color: var(--xr-background-color) !important;\n",
       "  padding-bottom: 5px !important;\n",
       "}\n",
       "\n",
       ".xr-var-attrs-in:checked ~ .xr-var-attrs,\n",
       ".xr-var-data-in:checked ~ .xr-var-data {\n",
       "  display: block;\n",
       "}\n",
       "\n",
       ".xr-var-data > table {\n",
       "  float: right;\n",
       "}\n",
       "\n",
       ".xr-var-name span,\n",
       ".xr-var-data,\n",
       ".xr-attrs {\n",
       "  padding-left: 25px !important;\n",
       "}\n",
       "\n",
       ".xr-attrs,\n",
       ".xr-var-attrs,\n",
       ".xr-var-data {\n",
       "  grid-column: 1 / -1;\n",
       "}\n",
       "\n",
       "dl.xr-attrs {\n",
       "  padding: 0;\n",
       "  margin: 0;\n",
       "  display: grid;\n",
       "  grid-template-columns: 125px auto;\n",
       "}\n",
       "\n",
       ".xr-attrs dt,\n",
       ".xr-attrs dd {\n",
       "  padding: 0;\n",
       "  margin: 0;\n",
       "  float: left;\n",
       "  padding-right: 10px;\n",
       "  width: auto;\n",
       "}\n",
       "\n",
       ".xr-attrs dt {\n",
       "  font-weight: normal;\n",
       "  grid-column: 1;\n",
       "}\n",
       "\n",
       ".xr-attrs dt:hover span {\n",
       "  display: inline-block;\n",
       "  background: var(--xr-background-color);\n",
       "  padding-right: 10px;\n",
       "}\n",
       "\n",
       ".xr-attrs dd {\n",
       "  grid-column: 2;\n",
       "  white-space: pre-wrap;\n",
       "  word-break: break-all;\n",
       "}\n",
       "\n",
       ".xr-icon-database,\n",
       ".xr-icon-file-text2 {\n",
       "  display: inline-block;\n",
       "  vertical-align: middle;\n",
       "  width: 1em;\n",
       "  height: 1.5em !important;\n",
       "  stroke-width: 0;\n",
       "  stroke: currentColor;\n",
       "  fill: currentColor;\n",
       "}\n",
       "</style><pre class='xr-text-repr-fallback'>&lt;xarray.Dataset&gt;\n",
       "Dimensions:     (lat: 131, lon: 360, time: 329)\n",
       "Coordinates:\n",
       "  * lon         (lon) float32 1.0 2.0 3.0 4.0 5.0 ... 357.0 358.0 359.0 360.0\n",
       "  * lat         (lat) float32 -65.0 -64.0 -63.0 -62.0 ... 62.0 63.0 64.0 65.0\n",
       "  * time        (time) datetime64[ns] 1993-01-15 1993-02-15 ... 2020-05-15\n",
       "Data variables:\n",
       "    year        (time) int32 1993 1993 1993 1993 1993 ... 2020 2020 2020 2020\n",
       "    month       (time) int32 1 2 3 4 5 6 7 8 9 10 11 ... 8 9 10 11 12 1 2 3 4 5\n",
       "    time_years  (time) float32 1.993e+03 1.993e+03 ... 2.02e+03 2.02e+03\n",
       "    alt_map     (lat, lon) int16 -1 -1 -1 -1 -1 -1 -1 -1 -1 ... 1 1 1 1 1 1 1 1\n",
       "    height      (time, lat, lon) float32 nan nan nan nan ... 58.0 58.0 60.0 61.0\n",
       "    gmsl        (time) int16 -48 -50 -42 -47 -42 -46 -41 ... 53 50 54 51 53 54\n",
       "Attributes:\n",
       "    description:  T/P + J-1 + J-2 data: Run params: with IB, A+S-A signal rem...\n",
       "    history:      Created: 17-Jul-2020 17:50:47\n",
       "    author:       Benoit Legresy</pre><div class='xr-wrap' hidden><div class='xr-header'><div class='xr-obj-type'>xarray.Dataset</div></div><ul class='xr-sections'><li class='xr-section-item'><input id='section-97433ae6-861d-434e-b7e4-08d0e2785578' class='xr-section-summary-in' type='checkbox' disabled ><label for='section-97433ae6-861d-434e-b7e4-08d0e2785578' class='xr-section-summary'  title='Expand/collapse section'>Dimensions:</label><div class='xr-section-inline-details'><ul class='xr-dim-list'><li><span class='xr-has-index'>lat</span>: 131</li><li><span class='xr-has-index'>lon</span>: 360</li><li><span class='xr-has-index'>time</span>: 329</li></ul></div><div class='xr-section-details'></div></li><li class='xr-section-item'><input id='section-fd3efa7b-6b80-4b6a-8c8b-bca54597585b' class='xr-section-summary-in' type='checkbox'  checked><label for='section-fd3efa7b-6b80-4b6a-8c8b-bca54597585b' class='xr-section-summary' >Coordinates: <span>(3)</span></label><div class='xr-section-inline-details'></div><div class='xr-section-details'><ul class='xr-var-list'><li class='xr-var-item'><div class='xr-var-name'><span class='xr-has-index'>lon</span></div><div class='xr-var-dims'>(lon)</div><div class='xr-var-dtype'>float32</div><div class='xr-var-preview xr-preview'>1.0 2.0 3.0 ... 358.0 359.0 360.0</div><input id='attrs-f351637a-2ac5-444c-9b4a-ee0cbccf8442' class='xr-var-attrs-in' type='checkbox' ><label for='attrs-f351637a-2ac5-444c-9b4a-ee0cbccf8442' title='Show/Hide attributes'><svg class='icon xr-icon-file-text2'><use xlink:href='#icon-file-text2'></use></svg></label><input id='data-4c7f43ea-d496-4a68-8819-606e6273005a' class='xr-var-data-in' type='checkbox'><label for='data-4c7f43ea-d496-4a68-8819-606e6273005a' title='Show/Hide data repr'><svg class='icon xr-icon-database'><use xlink:href='#icon-database'></use></svg></label><div class='xr-var-attrs'><dl class='xr-attrs'><dt><span>long_name :</span></dt><dd>longitude</dd><dt><span>units :</span></dt><dd>degrees_east</dd><dt><span>grid :</span></dt><dd>regular</dd><dt><span>minimum :</span></dt><dd>1.0</dd><dt><span>maximum :</span></dt><dd>360.0</dd></dl></div><div class='xr-var-data'><pre>array([  1.,   2.,   3., ..., 358., 359., 360.], dtype=float32)</pre></div></li><li class='xr-var-item'><div class='xr-var-name'><span class='xr-has-index'>lat</span></div><div class='xr-var-dims'>(lat)</div><div class='xr-var-dtype'>float32</div><div class='xr-var-preview xr-preview'>-65.0 -64.0 -63.0 ... 64.0 65.0</div><input id='attrs-0b173d0f-d47e-4427-bbd5-08af3b93ee2f' class='xr-var-attrs-in' type='checkbox' ><label for='attrs-0b173d0f-d47e-4427-bbd5-08af3b93ee2f' title='Show/Hide attributes'><svg class='icon xr-icon-file-text2'><use xlink:href='#icon-file-text2'></use></svg></label><input id='data-5a7167a4-8d43-41d4-94a2-b7d76720f92c' class='xr-var-data-in' type='checkbox'><label for='data-5a7167a4-8d43-41d4-94a2-b7d76720f92c' title='Show/Hide data repr'><svg class='icon xr-icon-database'><use xlink:href='#icon-database'></use></svg></label><div class='xr-var-attrs'><dl class='xr-attrs'><dt><span>long_name :</span></dt><dd>latitude</dd><dt><span>units :</span></dt><dd>degrees_north</dd><dt><span>grid :</span></dt><dd>regular</dd><dt><span>minimum :</span></dt><dd>-65.0</dd><dt><span>maximum :</span></dt><dd>65.0</dd></dl></div><div class='xr-var-data'><pre>array([-65., -64., -63., -62., -61., -60., -59., -58., -57., -56., -55., -54.,\n",
       "       -53., -52., -51., -50., -49., -48., -47., -46., -45., -44., -43., -42.,\n",
       "       -41., -40., -39., -38., -37., -36., -35., -34., -33., -32., -31., -30.,\n",
       "       -29., -28., -27., -26., -25., -24., -23., -22., -21., -20., -19., -18.,\n",
       "       -17., -16., -15., -14., -13., -12., -11., -10.,  -9.,  -8.,  -7.,  -6.,\n",
       "        -5.,  -4.,  -3.,  -2.,  -1.,   0.,   1.,   2.,   3.,   4.,   5.,   6.,\n",
       "         7.,   8.,   9.,  10.,  11.,  12.,  13.,  14.,  15.,  16.,  17.,  18.,\n",
       "        19.,  20.,  21.,  22.,  23.,  24.,  25.,  26.,  27.,  28.,  29.,  30.,\n",
       "        31.,  32.,  33.,  34.,  35.,  36.,  37.,  38.,  39.,  40.,  41.,  42.,\n",
       "        43.,  44.,  45.,  46.,  47.,  48.,  49.,  50.,  51.,  52.,  53.,  54.,\n",
       "        55.,  56.,  57.,  58.,  59.,  60.,  61.,  62.,  63.,  64.,  65.],\n",
       "      dtype=float32)</pre></div></li><li class='xr-var-item'><div class='xr-var-name'><span class='xr-has-index'>time</span></div><div class='xr-var-dims'>(time)</div><div class='xr-var-dtype'>datetime64[ns]</div><div class='xr-var-preview xr-preview'>1993-01-15 ... 2020-05-15</div><input id='attrs-308dfc3e-5a81-4925-8d52-40eca13ce2d0' class='xr-var-attrs-in' type='checkbox' ><label for='attrs-308dfc3e-5a81-4925-8d52-40eca13ce2d0' title='Show/Hide attributes'><svg class='icon xr-icon-file-text2'><use xlink:href='#icon-file-text2'></use></svg></label><input id='data-203576f4-c282-45ce-b9af-e725a4fd110f' class='xr-var-data-in' type='checkbox'><label for='data-203576f4-c282-45ce-b9af-e725a4fd110f' title='Show/Hide data repr'><svg class='icon xr-icon-database'><use xlink:href='#icon-database'></use></svg></label><div class='xr-var-attrs'><dl class='xr-attrs'><dt><span>long_name :</span></dt><dd>central time of month</dd><dt><span>first_date :</span></dt><dd>15-JAN-1993</dd><dt><span>minimum :</span></dt><dd></dd><dt><span>maximum :</span></dt><dd></dd></dl></div><div class='xr-var-data'><pre>array([&#x27;1993-01-15T00:00:00.000000000&#x27;, &#x27;1993-02-15T00:00:00.000000000&#x27;,\n",
       "       &#x27;1993-03-15T00:00:00.000000000&#x27;, ..., &#x27;2020-03-15T00:00:00.000000000&#x27;,\n",
       "       &#x27;2020-04-15T00:00:00.000000000&#x27;, &#x27;2020-05-15T00:00:00.000000000&#x27;],\n",
       "      dtype=&#x27;datetime64[ns]&#x27;)</pre></div></li></ul></div></li><li class='xr-section-item'><input id='section-6cf08abc-a7ef-4048-885a-994447c48c18' class='xr-section-summary-in' type='checkbox'  checked><label for='section-6cf08abc-a7ef-4048-885a-994447c48c18' class='xr-section-summary' >Data variables: <span>(6)</span></label><div class='xr-section-inline-details'></div><div class='xr-section-details'><ul class='xr-var-list'><li class='xr-var-item'><div class='xr-var-name'><span>year</span></div><div class='xr-var-dims'>(time)</div><div class='xr-var-dtype'>int32</div><div class='xr-var-preview xr-preview'>...</div><input id='attrs-a155220d-d164-4c6f-b19a-2ebb4619876a' class='xr-var-attrs-in' type='checkbox' ><label for='attrs-a155220d-d164-4c6f-b19a-2ebb4619876a' title='Show/Hide attributes'><svg class='icon xr-icon-file-text2'><use xlink:href='#icon-file-text2'></use></svg></label><input id='data-7f921824-8e38-43d1-96bc-0944ffee0dac' class='xr-var-data-in' type='checkbox'><label for='data-7f921824-8e38-43d1-96bc-0944ffee0dac' title='Show/Hide data repr'><svg class='icon xr-icon-database'><use xlink:href='#icon-database'></use></svg></label><div class='xr-var-attrs'><dl class='xr-attrs'><dt><span>units :</span></dt><dd>years</dd><dt><span>long_name :</span></dt><dd>Year</dd><dt><span>minimum :</span></dt><dd></dd><dt><span>maximum :</span></dt><dd></dd></dl></div><div class='xr-var-data'><pre>array([1993, 1993, 1993, ..., 2020, 2020, 2020], dtype=int32)</pre></div></li><li class='xr-var-item'><div class='xr-var-name'><span>month</span></div><div class='xr-var-dims'>(time)</div><div class='xr-var-dtype'>int32</div><div class='xr-var-preview xr-preview'>...</div><input id='attrs-573bbfc0-2d4d-4eaf-8a05-65b98d409a14' class='xr-var-attrs-in' type='checkbox' ><label for='attrs-573bbfc0-2d4d-4eaf-8a05-65b98d409a14' title='Show/Hide attributes'><svg class='icon xr-icon-file-text2'><use xlink:href='#icon-file-text2'></use></svg></label><input id='data-31831723-d188-49a6-8831-4754553ce770' class='xr-var-data-in' type='checkbox'><label for='data-31831723-d188-49a6-8831-4754553ce770' title='Show/Hide data repr'><svg class='icon xr-icon-database'><use xlink:href='#icon-database'></use></svg></label><div class='xr-var-attrs'><dl class='xr-attrs'><dt><span>units :</span></dt><dd>months</dd><dt><span>long_name :</span></dt><dd>Month</dd><dt><span>minimum :</span></dt><dd></dd><dt><span>maximum :</span></dt><dd></dd></dl></div><div class='xr-var-data'><pre>array([1, 2, 3, ..., 3, 4, 5], dtype=int32)</pre></div></li><li class='xr-var-item'><div class='xr-var-name'><span>time_years</span></div><div class='xr-var-dims'>(time)</div><div class='xr-var-dtype'>float32</div><div class='xr-var-preview xr-preview'>...</div><input id='attrs-b9b56254-83d8-452d-8254-53423dbb3375' class='xr-var-attrs-in' type='checkbox' ><label for='attrs-b9b56254-83d8-452d-8254-53423dbb3375' title='Show/Hide attributes'><svg class='icon xr-icon-file-text2'><use xlink:href='#icon-file-text2'></use></svg></label><input id='data-cefdadd9-9d46-47aa-84ab-5f45cd54b839' class='xr-var-data-in' type='checkbox'><label for='data-cefdadd9-9d46-47aa-84ab-5f45cd54b839' title='Show/Hide data repr'><svg class='icon xr-icon-database'><use xlink:href='#icon-database'></use></svg></label><div class='xr-var-attrs'><dl class='xr-attrs'><dt><span>units :</span></dt><dd>years</dd><dt><span>long_name :</span></dt><dd>Time in f.p. years</dd><dt><span>minimum :</span></dt><dd></dd><dt><span>maximum :</span></dt><dd></dd></dl></div><div class='xr-var-data'><pre>array([1993.0416, 1993.125 , 1993.2084, ..., 2020.2084, 2020.2916, 2020.375 ],\n",
       "      dtype=float32)</pre></div></li><li class='xr-var-item'><div class='xr-var-name'><span>alt_map</span></div><div class='xr-var-dims'>(lat, lon)</div><div class='xr-var-dtype'>int16</div><div class='xr-var-preview xr-preview'>...</div><input id='attrs-6084ae18-49bb-4a84-bab4-ca8189c4f54c' class='xr-var-attrs-in' type='checkbox' ><label for='attrs-6084ae18-49bb-4a84-bab4-ca8189c4f54c' title='Show/Hide attributes'><svg class='icon xr-icon-file-text2'><use xlink:href='#icon-file-text2'></use></svg></label><input id='data-3f51a657-8447-4c34-890d-a6e01badfe2b' class='xr-var-data-in' type='checkbox'><label for='data-3f51a657-8447-4c34-890d-a6e01badfe2b' title='Show/Hide data repr'><svg class='icon xr-icon-database'><use xlink:href='#icon-database'></use></svg></label><div class='xr-var-attrs'><dl class='xr-attrs'><dt><span>units :</span></dt><dd>N/A</dd><dt><span>long_name :</span></dt><dd>Altimetry map: 1=good, -1=no data</dd><dt><span>minimum :</span></dt><dd>-1.0</dd><dt><span>maximum :</span></dt><dd>1.0</dd></dl></div><div class='xr-var-data'><pre>array([[-1, -1, -1, ..., -1, -1, -1],\n",
       "       [-1, -1, -1, ..., -1, -1, -1],\n",
       "       [-1, -1, -1, ..., -1, -1, -1],\n",
       "       ...,\n",
       "       [ 1,  1,  1, ...,  1,  1,  1],\n",
       "       [ 1,  1,  1, ...,  1,  1,  1],\n",
       "       [ 1,  1,  1, ...,  1,  1,  1]], dtype=int16)</pre></div></li><li class='xr-var-item'><div class='xr-var-name'><span>height</span></div><div class='xr-var-dims'>(time, lat, lon)</div><div class='xr-var-dtype'>float32</div><div class='xr-var-preview xr-preview'>nan nan nan nan ... 58.0 60.0 61.0</div><input id='attrs-4b335e16-df86-4bc9-9fdb-cea0da92e6c9' class='xr-var-attrs-in' type='checkbox' ><label for='attrs-4b335e16-df86-4bc9-9fdb-cea0da92e6c9' title='Show/Hide attributes'><svg class='icon xr-icon-file-text2'><use xlink:href='#icon-file-text2'></use></svg></label><input id='data-dcedb812-4f30-459c-8e17-8e7727eba12b' class='xr-var-data-in' type='checkbox'><label for='data-dcedb812-4f30-459c-8e17-8e7727eba12b' title='Show/Hide data repr'><svg class='icon xr-icon-database'><use xlink:href='#icon-database'></use></svg></label><div class='xr-var-attrs'><dl class='xr-attrs'><dt><span>long_name :</span></dt><dd>Sea Level Height (mm)</dd><dt><span>units :</span></dt><dd>millimetres</dd><dt><span>minimum :</span></dt><dd></dd><dt><span>maximum :</span></dt><dd></dd><dt><span>FillValue_ :</span></dt><dd>32700.0</dd></dl></div><div class='xr-var-data'><pre>array([[[  nan,   nan, ...,   nan,   nan],\n",
       "        [  nan,   nan, ...,   nan,   nan],\n",
       "        ...,\n",
       "        [ -94.,  -86., ..., -106., -101.],\n",
       "        [ -99.,  -90., ..., -111., -106.]],\n",
       "\n",
       "       [[  nan,   nan, ...,   nan,   nan],\n",
       "        [  nan,   nan, ...,   nan,   nan],\n",
       "        ...,\n",
       "        [ -55.,  -50., ...,  -58.,  -56.],\n",
       "        [ -54.,  -49., ...,  -57.,  -56.]],\n",
       "\n",
       "       ...,\n",
       "\n",
       "       [[  nan,   nan, ...,   nan,   nan],\n",
       "        [  nan,   nan, ...,   nan,   nan],\n",
       "        ...,\n",
       "        [  57.,   58., ...,   55.,   56.],\n",
       "        [  55.,   55., ...,   53.,   54.]],\n",
       "\n",
       "       [[  nan,   nan, ...,   nan,   nan],\n",
       "        [  nan,   nan, ...,   nan,   nan],\n",
       "        ...,\n",
       "        [  64.,   65., ...,   62.,   62.],\n",
       "        [  62.,   62., ...,   60.,   61.]]], dtype=float32)</pre></div></li><li class='xr-var-item'><div class='xr-var-name'><span>gmsl</span></div><div class='xr-var-dims'>(time)</div><div class='xr-var-dtype'>int16</div><div class='xr-var-preview xr-preview'>-48 -50 -42 -47 -42 ... 54 51 53 54</div><input id='attrs-9153b350-7019-4eef-b0f4-433c29a6105e' class='xr-var-attrs-in' type='checkbox' ><label for='attrs-9153b350-7019-4eef-b0f4-433c29a6105e' title='Show/Hide attributes'><svg class='icon xr-icon-file-text2'><use xlink:href='#icon-file-text2'></use></svg></label><input id='data-f11f8044-4dc0-4966-a3aa-ea159a83a5e5' class='xr-var-data-in' type='checkbox'><label for='data-f11f8044-4dc0-4966-a3aa-ea159a83a5e5' title='Show/Hide data repr'><svg class='icon xr-icon-database'><use xlink:href='#icon-database'></use></svg></label><div class='xr-var-attrs'><dl class='xr-attrs'><dt><span>long_name :</span></dt><dd>Global mean Sea Level (GMSL) (mm)</dd><dt><span>units :</span></dt><dd>millimetres</dd><dt><span>minimum :</span></dt><dd></dd><dt><span>maximum :</span></dt><dd></dd></dl></div><div class='xr-var-data'><pre>array([-48, -50, -42, ...,  51,  53,  54], dtype=int16)</pre></div></li></ul></div></li><li class='xr-section-item'><input id='section-6effddb4-f4ce-49bd-8358-852a5258960e' class='xr-section-summary-in' type='checkbox'  checked><label for='section-6effddb4-f4ce-49bd-8358-852a5258960e' class='xr-section-summary' >Attributes: <span>(3)</span></label><div class='xr-section-inline-details'></div><div class='xr-section-details'><dl class='xr-attrs'><dt><span>description :</span></dt><dd>T/P + J-1 + J-2 data: Run params: with IB, A+S-A signal removed, Global trend not removed, Altimeter GIA applied</dd><dt><span>history :</span></dt><dd>Created: 17-Jul-2020 17:50:47</dd><dt><span>author :</span></dt><dd>Benoit Legresy</dd></dl></div></li></ul></div></div>"
      ],
      "text/plain": [
       "<xarray.Dataset>\n",
       "Dimensions:     (lat: 131, lon: 360, time: 329)\n",
       "Coordinates:\n",
       "  * lon         (lon) float32 1.0 2.0 3.0 4.0 5.0 ... 357.0 358.0 359.0 360.0\n",
       "  * lat         (lat) float32 -65.0 -64.0 -63.0 -62.0 ... 62.0 63.0 64.0 65.0\n",
       "  * time        (time) datetime64[ns] 1993-01-15 1993-02-15 ... 2020-05-15\n",
       "Data variables:\n",
       "    year        (time) int32 ...\n",
       "    month       (time) int32 ...\n",
       "    time_years  (time) float32 ...\n",
       "    alt_map     (lat, lon) int16 ...\n",
       "    height      (time, lat, lon) float32 nan nan nan nan ... 58.0 58.0 60.0 61.0\n",
       "    gmsl        (time) int16 -48 -50 -42 -47 -42 -46 -41 ... 53 50 54 51 53 54\n",
       "Attributes:\n",
       "    description:  T/P + J-1 + J-2 data: Run params: with IB, A+S-A signal rem...\n",
       "    history:      Created: 17-Jul-2020 17:50:47\n",
       "    author:       Benoit Legresy"
      ]
     },
     "execution_count": 4,
     "metadata": {},
     "output_type": "execute_result"
    }
   ],
   "source": [
    "sl"
   ]
  },
  {
   "cell_type": "code",
   "execution_count": 5,
   "id": "284614b4",
   "metadata": {},
   "outputs": [
    {
     "data": {
      "text/plain": [
       "array([-48, -50, -42, -47, -42, -46, -41, -44, -42, -46, -46, -43, -44,\n",
       "       -46, -38, -41, -45, -44, -44, -41, -45, -42, -50, -42, -44, -40,\n",
       "       -40, -38, -45, -38, -44, -37, -40, -38, -43, -37, -46, -35, -40,\n",
       "       -35, -36, -32, -32, -33, -34, -26, -31, -39, -36, -37, -32, -35,\n",
       "       -30, -31, -23, -27, -21, -29, -26, -34, -25, -27, -21, -25, -22,\n",
       "       -27, -21, -25, -23, -24, -26, -25, -24, -22, -27, -25, -29, -26,\n",
       "       -25, -22, -27, -18, -28, -18, -24, -18, -23, -20, -27, -19, -25,\n",
       "       -18, -22, -15, -22, -21, -20, -18, -17, -17, -18, -17, -13, -17,\n",
       "       -10, -18, -14, -20, -14, -14, -15, -16, -13, -15, -10,  -8, -12,\n",
       "       -10, -14, -13, -12, -10, -11, -12, -11, -13, -11, -11,  -7, -10,\n",
       "       -12, -11,  -7, -10,  -8,  -9, -10, -10,  -7,  -8,  -6, -10, -11,\n",
       "        -7,  -8,  -6,  -5,  -7,  -6,  -4,  -4,  -4,  -4,  -5,  -3,  -2,\n",
       "        -6,  -3,  -4,  -4,  -4,  -2,  -1,  -1,  -1,  -1,  -6,  -3,  -6,\n",
       "        -4,  -4,   0,  -3,  -3,  -4,  -2,  -3,  -3,   0,  -4,   0,  -3,\n",
       "         1,  -1,   6,   4,   4,   3,   4,   3,   4,   3,   8,   6,   3,\n",
       "         7,   6,   8,   7,   5,   4,   7,  10,  12,  13,   8,   8,   8,\n",
       "        10,  12,  13,   9,   6,   4,   9,   9,  10,   7,   6,   3,   7,\n",
       "         6,  10,   5,   8,   6,  13,  12,  17,  19,  16,  15,  16,  18,\n",
       "        20,  20,  16,  18,  21,  25,  26,  26,  21,  24,  22,  23,  21,\n",
       "        21,  15,  18,  20,  25,  24,  24,  24,  25,  23,  24,  25,  24,\n",
       "        24,  22,  27,  26,  33,  30,  33,  31,  34,  32,  36,  33,  35,\n",
       "        35,  41,  41,  42,  40,  39,  39,  38,  41,  41,  37,  37,  36,\n",
       "        41,  39,  38,  35,  38,  40,  39,  40,  43,  43,  43,  40,  44,\n",
       "        44,  43,  41,  43,  39,  44,  44,  47,  45,  48,  47,  47,  46,\n",
       "        48,  48,  50,  48,  52,  52,  54,  55,  54,  52,  52,  53,  50,\n",
       "        54,  51,  53,  54], dtype=int16)"
      ]
     },
     "execution_count": 5,
     "metadata": {},
     "output_type": "execute_result"
    }
   ],
   "source": [
    "gmsl"
   ]
  },
  {
   "cell_type": "code",
   "execution_count": 6,
   "id": "073f93e7",
   "metadata": {},
   "outputs": [
    {
     "name": "stdout",
     "output_type": "stream",
     "text": [
      "First date 1993-01-15T00:00:00.000000000\n",
      "Last date 2020-05-15T00:00:00.000000000\n"
     ]
    }
   ],
   "source": [
    "print(f\"First date {date[0]}\")\n",
    "print(f\"Last date {date[-1]}\")"
   ]
  },
  {
   "cell_type": "code",
   "execution_count": 7,
   "id": "3e136146",
   "metadata": {},
   "outputs": [
    {
     "name": "stdout",
     "output_type": "stream",
     "text": [
      "27 full years\n"
     ]
    }
   ],
   "source": [
    "# yearly means\n",
    "years = len(date)/12\n",
    "print(f\"{int(years)} full years\")"
   ]
  },
  {
   "cell_type": "code",
   "execution_count": 8,
   "id": "2cfe4d75",
   "metadata": {},
   "outputs": [
    {
     "data": {
      "text/plain": [
       "5"
      ]
     },
     "execution_count": 8,
     "metadata": {},
     "output_type": "execute_result"
    }
   ],
   "source": [
    "# don't use last values\n",
    "len(date)-27*12"
   ]
  },
  {
   "cell_type": "code",
   "execution_count": 9,
   "id": "fe369acd",
   "metadata": {},
   "outputs": [
    {
     "data": {
      "text/plain": [
       "324"
      ]
     },
     "execution_count": 9,
     "metadata": {},
     "output_type": "execute_result"
    }
   ],
   "source": [
    "gmsl_fullyear = gmsl[:-5]\n",
    "len(gmsl_fullyear)"
   ]
  },
  {
   "cell_type": "code",
   "execution_count": 10,
   "id": "9543906b",
   "metadata": {},
   "outputs": [
    {
     "data": {
      "text/plain": [
       "array([-48, -50, -42, -47, -42, -46, -41, -44, -42, -46, -46, -43, -44,\n",
       "       -46, -38, -41, -45, -44, -44, -41, -45, -42, -50, -42, -44, -40,\n",
       "       -40, -38, -45, -38, -44, -37, -40, -38, -43, -37, -46, -35, -40,\n",
       "       -35, -36, -32, -32, -33, -34, -26, -31, -39, -36, -37, -32, -35,\n",
       "       -30, -31, -23, -27, -21, -29, -26, -34, -25, -27, -21, -25, -22,\n",
       "       -27, -21, -25, -23, -24, -26, -25, -24, -22, -27, -25, -29, -26,\n",
       "       -25, -22, -27, -18, -28, -18, -24, -18, -23, -20, -27, -19, -25,\n",
       "       -18, -22, -15, -22, -21, -20, -18, -17, -17, -18, -17, -13, -17,\n",
       "       -10, -18, -14, -20, -14, -14, -15, -16, -13, -15, -10,  -8, -12,\n",
       "       -10, -14, -13, -12, -10, -11, -12, -11, -13, -11, -11,  -7, -10,\n",
       "       -12, -11,  -7, -10,  -8,  -9, -10, -10,  -7,  -8,  -6, -10, -11,\n",
       "        -7,  -8,  -6,  -5,  -7,  -6,  -4,  -4,  -4,  -4,  -5,  -3,  -2,\n",
       "        -6,  -3,  -4,  -4,  -4,  -2,  -1,  -1,  -1,  -1,  -6,  -3,  -6,\n",
       "        -4,  -4,   0,  -3,  -3,  -4,  -2,  -3,  -3,   0,  -4,   0,  -3,\n",
       "         1,  -1,   6,   4,   4,   3,   4,   3,   4,   3,   8,   6,   3,\n",
       "         7,   6,   8,   7,   5,   4,   7,  10,  12,  13,   8,   8,   8,\n",
       "        10,  12,  13,   9,   6,   4,   9,   9,  10,   7,   6,   3,   7,\n",
       "         6,  10,   5,   8,   6,  13,  12,  17,  19,  16,  15,  16,  18,\n",
       "        20,  20,  16,  18,  21,  25,  26,  26,  21,  24,  22,  23,  21,\n",
       "        21,  15,  18,  20,  25,  24,  24,  24,  25,  23,  24,  25,  24,\n",
       "        24,  22,  27,  26,  33,  30,  33,  31,  34,  32,  36,  33,  35,\n",
       "        35,  41,  41,  42,  40,  39,  39,  38,  41,  41,  37,  37,  36,\n",
       "        41,  39,  38,  35,  38,  40,  39,  40,  43,  43,  43,  40,  44,\n",
       "        44,  43,  41,  43,  39,  44,  44,  47,  45,  48,  47,  47,  46,\n",
       "        48,  48,  50,  48,  52,  52,  54,  55,  54,  52,  52,  53],\n",
       "      dtype=int16)"
      ]
     },
     "execution_count": 10,
     "metadata": {},
     "output_type": "execute_result"
    }
   ],
   "source": [
    "gmsl_fullyear"
   ]
  },
  {
   "cell_type": "code",
   "execution_count": 11,
   "id": "1308a79b",
   "metadata": {},
   "outputs": [
    {
     "name": "stdout",
     "output_type": "stream",
     "text": [
      "0 [-48 -50 -42 -47 -42 -46 -41 -44 -42 -46 -46 -43]\n",
      "1 [-44 -46 -38 -41 -45 -44 -44 -41 -45 -42 -50 -42]\n",
      "2 [-44 -40 -40 -38 -45 -38 -44 -37 -40 -38 -43 -37]\n",
      "3 [-46 -35 -40 -35 -36 -32 -32 -33 -34 -26 -31 -39]\n",
      "4 [-36 -37 -32 -35 -30 -31 -23 -27 -21 -29 -26 -34]\n",
      "5 [-25 -27 -21 -25 -22 -27 -21 -25 -23 -24 -26 -25]\n",
      "6 [-24 -22 -27 -25 -29 -26 -25 -22 -27 -18 -28 -18]\n",
      "7 [-24 -18 -23 -20 -27 -19 -25 -18 -22 -15 -22 -21]\n",
      "8 [-20 -18 -17 -17 -18 -17 -13 -17 -10 -18 -14 -20]\n",
      "9 [-14 -14 -15 -16 -13 -15 -10  -8 -12 -10 -14 -13]\n",
      "10 [-12 -10 -11 -12 -11 -13 -11 -11  -7 -10 -12 -11]\n",
      "11 [ -7 -10  -8  -9 -10 -10  -7  -8  -6 -10 -11  -7]\n",
      "12 [-8 -6 -5 -7 -6 -4 -4 -4 -4 -5 -3 -2]\n",
      "13 [-6 -3 -4 -4 -4 -2 -1 -1 -1 -1 -6 -3]\n",
      "14 [-6 -4 -4  0 -3 -3 -4 -2 -3 -3  0 -4]\n",
      "15 [ 0 -3  1 -1  6  4  4  3  4  3  4  3]\n",
      "16 [ 8  6  3  7  6  8  7  5  4  7 10 12]\n",
      "17 [13  8  8  8 10 12 13  9  6  4  9  9]\n",
      "18 [10  7  6  3  7  6 10  5  8  6 13 12]\n",
      "19 [17 19 16 15 16 18 20 20 16 18 21 25]\n",
      "20 [26 26 21 24 22 23 21 21 15 18 20 25]\n",
      "21 [24 24 24 25 23 24 25 24 24 22 27 26]\n",
      "22 [33 30 33 31 34 32 36 33 35 35 41 41]\n",
      "23 [42 40 39 39 38 41 41 37 37 36 41 39]\n",
      "24 [38 35 38 40 39 40 43 43 43 40 44 44]\n",
      "25 [43 41 43 39 44 44 47 45 48 47 47 46]\n",
      "26 [48 48 50 48 52 52 54 55 54 52 52 53]\n"
     ]
    },
    {
     "data": {
      "text/plain": [
       "array([-44.75      , -43.5       , -40.33333333, -34.91666667,\n",
       "       -30.08333333, -24.25      , -24.25      , -21.16666667,\n",
       "       -16.58333333, -12.83333333, -10.91666667,  -8.58333333,\n",
       "        -4.83333333,  -3.        ,  -3.        ,   2.33333333,\n",
       "         6.91666667,   9.08333333,   7.75      ,  18.41666667,\n",
       "        21.83333333,  24.33333333,  34.5       ,  39.16666667,\n",
       "        40.58333333,  44.5       ,  51.5       ])"
      ]
     },
     "execution_count": 11,
     "metadata": {},
     "output_type": "execute_result"
    }
   ],
   "source": [
    "# yearly means\n",
    "gmsl_yearmean = np.zeros(27)\n",
    "n = 0\n",
    "for i in range(27):\n",
    "    print(i, gmsl_fullyear[12*i:12*(i+1)])\n",
    "    gmsl_yearmean[n] = np.mean(gmsl_fullyear[12*i:12*(i+1)])\n",
    "    n += 1\n",
    "gmsl_yearmean"
   ]
  },
  {
   "cell_type": "code",
   "execution_count": 12,
   "id": "ee7d0161",
   "metadata": {},
   "outputs": [
    {
     "name": "stdout",
     "output_type": "stream",
     "text": [
      "Linear yearly Trend: [3.51322751]\n"
     ]
    }
   ],
   "source": [
    "# Linear Trend of yearly data\n",
    "mean = np.mean(gmsl_yearmean)\n",
    "y = gmsl_yearmean - mean\n",
    "X = np.arange(0,27,1).reshape(-1, 1)\n",
    "\n",
    "reg = LinearRegression().fit(X, y)\n",
    "trend = reg.coef_\n",
    "intercept = reg.intercept_\n",
    "print(f\"Linear yearly Trend: {trend}\")"
   ]
  },
  {
   "cell_type": "code",
   "execution_count": 13,
   "id": "a94848ce",
   "metadata": {},
   "outputs": [
    {
     "name": "stdout",
     "output_type": "stream",
     "text": [
      "Linear yearly Trend: [0.29411608]\n"
     ]
    }
   ],
   "source": [
    "# Linear Trend of monthly data\n",
    "mean = np.mean(gmsl)\n",
    "y_month= gmsl - mean\n",
    "X_month = np.arange(0,len(date),1).reshape(-1, 1)\n",
    "\n",
    "reg = LinearRegression().fit(X_month, y_month)\n",
    "trend_month = reg.coef_\n",
    "intercept_month = reg.intercept_\n",
    "print(f\"Linear yearly Trend: {trend_month}\")"
   ]
  },
  {
   "cell_type": "markdown",
   "id": "f7197930",
   "metadata": {},
   "source": [
    "# Plot "
   ]
  },
  {
   "cell_type": "code",
   "execution_count": 14,
   "id": "3e727ec8",
   "metadata": {},
   "outputs": [
    {
     "data": {
      "text/plain": [
       "[<matplotlib.lines.Line2D at 0x7f6ca4a7fd90>]"
      ]
     },
     "execution_count": 14,
     "metadata": {},
     "output_type": "execute_result"
    },
    {
     "data": {
      "image/png": "[encoded data removed]",
      "text/plain": [
       "<Figure size 432x288 with 1 Axes>"
      ]
     },
     "metadata": {},
     "output_type": "display_data"
    }
   ],
   "source": [
    "plt.plot(y)\n",
    "plt.plot(trend*np.arange(27) + intercept)"
   ]
  },
  {
   "cell_type": "code",
   "execution_count": 15,
   "id": "8bb3ecd9",
   "metadata": {},
   "outputs": [
    {
     "data": {
      "image/png": "[encoded data removed]",
      "text/plain": [
       "<Figure size 1080x504 with 1 Axes>"
      ]
     },
     "metadata": {},
     "output_type": "display_data"
    }
   ],
   "source": [
    "fig, ax = plt.subplots(1, 1, figsize=(15,7))\n",
    "plt.plot(date, gmsl-np.mean(gmsl), color=\"#20497C\", marker='o',\n",
    "        markerfacecolor='white', markersize=4)\n",
    "plt.plot(date, trend_month*np.arange(len(date)) + intercept, '--', color=\"#20497C\", alpha=.5)\n",
    "ax.set_title(\"Global Mean Sea Level (GMSL) 1993-220\")\n",
    "ax.legend(labels=[\"GMSL\", \"Trend\"],fontsize= 14, loc='upper left')\n",
    "ax.text(x=date[240], y=2, s=f\"Linear Trend\\n1993/01-2020/05:\\n{trend_month[0]:.2f} mm/month\", color='#20497C')\n",
    "ax.set_ylabel(\"mm\", rotation=0, loc=\"top\", fontsize=14)\n",
    "plt.savefig(\"../plots/day20_upwards.png\");"
   ]
  },
  {
   "cell_type": "code",
   "execution_count": null,
   "id": "d0a2a3da",
   "metadata": {},
   "outputs": [],
   "source": []
  }
 ],
 "metadata": {
  "kernelspec": {
   "display_name": "Python 3",
   "language": "python",
   "name": "python3"
  },
  "language_info": {
   "codemirror_mode": {
    "name": "ipython",
    "version": 3
   },
   "file_extension": ".py",
   "mimetype": "text/x-python",
   "name": "python",
   "nbconvert_exporter": "python",
   "pygments_lexer": "ipython3",
   "version": "3.8.8"
  }
 },
 "nbformat": 4,
 "nbformat_minor": 5
}

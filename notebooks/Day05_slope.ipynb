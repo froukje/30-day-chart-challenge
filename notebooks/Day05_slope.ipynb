{
 "cells": [
  {
   "cell_type": "markdown",
   "id": "8342d4bc",
   "metadata": {},
   "source": [
    "# Objective\n",
    "\n",
    "**Day 5 of the [#30DayChartChallenge challenge](https://github.com/Z3tt/30DayChartChallenge_Collection2021/blob/main/README.md)**\n",
    "\n",
    "**Topic: 5. slope**\n",
    "\n",
    "Used Dataset: https://data.giss.nasa.gov/gistemp/graphs/graph_data/Global_Mean_Estimates_based_on_Land_and_Ocean_Data/graph.txt"
   ]
  },
  {
   "cell_type": "markdown",
   "id": "49928a00",
   "metadata": {},
   "source": [
    "# Setup"
   ]
  },
  {
   "cell_type": "code",
   "execution_count": 100,
   "id": "fab57430",
   "metadata": {},
   "outputs": [],
   "source": [
    "import pandas as pd\n",
    "import numpy as np\n",
    "import matplotlib.pyplot as plt\n",
    "import matplotlib\n",
    "matplotlib.style.use('ggplot')"
   ]
  },
  {
   "cell_type": "markdown",
   "id": "e8adbb48",
   "metadata": {},
   "source": [
    "# Read Data"
   ]
  },
  {
   "cell_type": "code",
   "execution_count": 101,
   "id": "4988f7bb",
   "metadata": {},
   "outputs": [
    {
     "data": {
      "text/html": [
       "<div>\n",
       "<style scoped>\n",
       "    .dataframe tbody tr th:only-of-type {\n",
       "        vertical-align: middle;\n",
       "    }\n",
       "\n",
       "    .dataframe tbody tr th {\n",
       "        vertical-align: top;\n",
       "    }\n",
       "\n",
       "    .dataframe thead th {\n",
       "        text-align: right;\n",
       "    }\n",
       "</style>\n",
       "<table border=\"1\" class=\"dataframe\">\n",
       "  <thead>\n",
       "    <tr style=\"text-align: right;\">\n",
       "      <th></th>\n",
       "      <th>year</th>\n",
       "      <th>No_Smoothing</th>\n",
       "      <th>Lowess(5)</th>\n",
       "    </tr>\n",
       "  </thead>\n",
       "  <tbody>\n",
       "    <tr>\n",
       "      <th>0</th>\n",
       "      <td>1880-01-01</td>\n",
       "      <td>-0.16</td>\n",
       "      <td>-0.08</td>\n",
       "    </tr>\n",
       "    <tr>\n",
       "      <th>1</th>\n",
       "      <td>1881-01-01</td>\n",
       "      <td>-0.07</td>\n",
       "      <td>-0.12</td>\n",
       "    </tr>\n",
       "    <tr>\n",
       "      <th>2</th>\n",
       "      <td>1882-01-01</td>\n",
       "      <td>-0.10</td>\n",
       "      <td>-0.16</td>\n",
       "    </tr>\n",
       "    <tr>\n",
       "      <th>3</th>\n",
       "      <td>1883-01-01</td>\n",
       "      <td>-0.16</td>\n",
       "      <td>-0.19</td>\n",
       "    </tr>\n",
       "    <tr>\n",
       "      <th>4</th>\n",
       "      <td>1884-01-01</td>\n",
       "      <td>-0.27</td>\n",
       "      <td>-0.23</td>\n",
       "    </tr>\n",
       "  </tbody>\n",
       "</table>\n",
       "</div>"
      ],
      "text/plain": [
       "        year  No_Smoothing  Lowess(5)\n",
       "0 1880-01-01         -0.16      -0.08\n",
       "1 1881-01-01         -0.07      -0.12\n",
       "2 1882-01-01         -0.10      -0.16\n",
       "3 1883-01-01         -0.16      -0.19\n",
       "4 1884-01-01         -0.27      -0.23"
      ]
     },
     "execution_count": 101,
     "metadata": {},
     "output_type": "execute_result"
    }
   ],
   "source": [
    "df_global_temp = pd.read_csv(\"../data/globalT/global_temp_yearly.txt\", header=2, sep=\"\\t\", \n",
    "                             infer_datetime_format=True, parse_dates={'year':['Year']})\n",
    "df_global_temp.head() "
   ]
  },
  {
   "cell_type": "markdown",
   "id": "16a476d1",
   "metadata": {},
   "source": [
    "# Data Preparation"
   ]
  },
  {
   "cell_type": "code",
   "execution_count": 102,
   "id": "ee211c43",
   "metadata": {},
   "outputs": [
    {
     "name": "stdout",
     "output_type": "stream",
     "text": [
      "<class 'pandas.core.frame.DataFrame'>\n",
      "RangeIndex: 141 entries, 0 to 140\n",
      "Data columns (total 3 columns):\n",
      " #   Column        Non-Null Count  Dtype         \n",
      "---  ------        --------------  -----         \n",
      " 0   year          141 non-null    datetime64[ns]\n",
      " 1   No_Smoothing  141 non-null    float64       \n",
      " 2   Lowess(5)     141 non-null    float64       \n",
      "dtypes: datetime64[ns](1), float64(2)\n",
      "memory usage: 3.4 KB\n"
     ]
    }
   ],
   "source": [
    "df_global_temp.info()"
   ]
  },
  {
   "cell_type": "code",
   "execution_count": 103,
   "id": "4abc4663",
   "metadata": {
    "scrolled": true
   },
   "outputs": [
    {
     "data": {
      "text/html": [
       "<div>\n",
       "<style scoped>\n",
       "    .dataframe tbody tr th:only-of-type {\n",
       "        vertical-align: middle;\n",
       "    }\n",
       "\n",
       "    .dataframe tbody tr th {\n",
       "        vertical-align: top;\n",
       "    }\n",
       "\n",
       "    .dataframe thead th {\n",
       "        text-align: right;\n",
       "    }\n",
       "</style>\n",
       "<table border=\"1\" class=\"dataframe\">\n",
       "  <thead>\n",
       "    <tr style=\"text-align: right;\">\n",
       "      <th></th>\n",
       "      <th>No_Smoothing</th>\n",
       "      <th>Lowess(5)</th>\n",
       "    </tr>\n",
       "    <tr>\n",
       "      <th>year</th>\n",
       "      <th></th>\n",
       "      <th></th>\n",
       "    </tr>\n",
       "  </thead>\n",
       "  <tbody>\n",
       "    <tr>\n",
       "      <th>1880-01-01</th>\n",
       "      <td>-0.16</td>\n",
       "      <td>-0.08</td>\n",
       "    </tr>\n",
       "    <tr>\n",
       "      <th>1881-01-01</th>\n",
       "      <td>-0.07</td>\n",
       "      <td>-0.12</td>\n",
       "    </tr>\n",
       "    <tr>\n",
       "      <th>1882-01-01</th>\n",
       "      <td>-0.10</td>\n",
       "      <td>-0.16</td>\n",
       "    </tr>\n",
       "    <tr>\n",
       "      <th>1883-01-01</th>\n",
       "      <td>-0.16</td>\n",
       "      <td>-0.19</td>\n",
       "    </tr>\n",
       "    <tr>\n",
       "      <th>1884-01-01</th>\n",
       "      <td>-0.27</td>\n",
       "      <td>-0.23</td>\n",
       "    </tr>\n",
       "  </tbody>\n",
       "</table>\n",
       "</div>"
      ],
      "text/plain": [
       "            No_Smoothing  Lowess(5)\n",
       "year                               \n",
       "1880-01-01         -0.16      -0.08\n",
       "1881-01-01         -0.07      -0.12\n",
       "1882-01-01         -0.10      -0.16\n",
       "1883-01-01         -0.16      -0.19\n",
       "1884-01-01         -0.27      -0.23"
      ]
     },
     "execution_count": 103,
     "metadata": {},
     "output_type": "execute_result"
    }
   ],
   "source": [
    "df_global_temp.set_index('year', inplace=True)\n",
    "df_global_temp.head()"
   ]
  },
  {
   "cell_type": "code",
   "execution_count": 104,
   "id": "5521c9e5",
   "metadata": {},
   "outputs": [
    {
     "data": {
      "text/html": [
       "<div>\n",
       "<style scoped>\n",
       "    .dataframe tbody tr th:only-of-type {\n",
       "        vertical-align: middle;\n",
       "    }\n",
       "\n",
       "    .dataframe tbody tr th {\n",
       "        vertical-align: top;\n",
       "    }\n",
       "\n",
       "    .dataframe thead th {\n",
       "        text-align: right;\n",
       "    }\n",
       "</style>\n",
       "<table border=\"1\" class=\"dataframe\">\n",
       "  <thead>\n",
       "    <tr style=\"text-align: right;\">\n",
       "      <th></th>\n",
       "      <th>No_Smoothing</th>\n",
       "      <th>Lowess(5)</th>\n",
       "    </tr>\n",
       "    <tr>\n",
       "      <th>year</th>\n",
       "      <th></th>\n",
       "      <th></th>\n",
       "    </tr>\n",
       "  </thead>\n",
       "  <tbody>\n",
       "    <tr>\n",
       "      <th>2016-01-01</th>\n",
       "      <td>1.02</td>\n",
       "      <td>0.88</td>\n",
       "    </tr>\n",
       "    <tr>\n",
       "      <th>2017-01-01</th>\n",
       "      <td>0.93</td>\n",
       "      <td>0.91</td>\n",
       "    </tr>\n",
       "    <tr>\n",
       "      <th>2018-01-01</th>\n",
       "      <td>0.85</td>\n",
       "      <td>0.95</td>\n",
       "    </tr>\n",
       "    <tr>\n",
       "      <th>2019-01-01</th>\n",
       "      <td>0.98</td>\n",
       "      <td>0.98</td>\n",
       "    </tr>\n",
       "    <tr>\n",
       "      <th>2020-01-01</th>\n",
       "      <td>1.02</td>\n",
       "      <td>1.01</td>\n",
       "    </tr>\n",
       "  </tbody>\n",
       "</table>\n",
       "</div>"
      ],
      "text/plain": [
       "            No_Smoothing  Lowess(5)\n",
       "year                               \n",
       "2016-01-01          1.02       0.88\n",
       "2017-01-01          0.93       0.91\n",
       "2018-01-01          0.85       0.95\n",
       "2019-01-01          0.98       0.98\n",
       "2020-01-01          1.02       1.01"
      ]
     },
     "execution_count": 104,
     "metadata": {},
     "output_type": "execute_result"
    }
   ],
   "source": [
    "df_global_temp.tail()"
   ]
  },
  {
   "cell_type": "code",
   "execution_count": 113,
   "id": "71c05ad3",
   "metadata": {},
   "outputs": [
    {
     "name": "stdout",
     "output_type": "stream",
     "text": [
      "Global mean Temperature Tendency 1880 - 1959 0.0036°C\n",
      "Global mean Temperature Tendency 1960 - 2020 0.017°C\n"
     ]
    }
   ],
   "source": [
    "# calculate slopes: 1880-1959 and 1960-2020\n",
    "slope1 = np.polyfit(range(len(df_global_temp.loc['1880-01-01':'1959-01-01'])), df_global_temp.loc['1880-01-01':'1959-01-01'][\"No_Smoothing\"], 1)\n",
    "slope2 = np.polyfit(range(len(df_global_temp.loc['1960-01-01':'2020-01-01'])), df_global_temp.loc['1960-01-01':'2020-01-01'][\"No_Smoothing\"], 1)\n",
    "print(f'Global mean Temperature Tendency 1880 - 1959 {slope1[0]:.2}°C')\n",
    "print(f'Global mean Temperature Tendency 1960 - 2020 {slope2[0]:.2}°C')"
   ]
  },
  {
   "cell_type": "code",
   "execution_count": 126,
   "id": "2adb5761",
   "metadata": {},
   "outputs": [],
   "source": [
    "x1 = range(len(df_global_temp.loc['1880-01-01':'1959-01-01'].index))\n",
    "x2 = range(len(df_global_temp.loc['1960-01-01':'2020-01-01'].index))\n",
    "trend1 = slope1[0] * x1 + slope1[1]\n",
    "trend2 = slope2[0] * x2 + slope2[1]"
   ]
  },
  {
   "cell_type": "code",
   "execution_count": 149,
   "id": "052eac5b",
   "metadata": {},
   "outputs": [
    {
     "name": "stdout",
     "output_type": "stream",
     "text": [
      "Total rise in 1880 - 1959: 0.29°C\n",
      "Total rise in 1960 - 2020: 1.06°C\n"
     ]
    }
   ],
   "source": [
    "# total rise:\n",
    "years1 = 1959 - 1880 + 1\n",
    "years2 = 2020 - 1960 + 1\n",
    "total1 = slope1[0] * years1\n",
    "total2 = slope2[0] * years2\n",
    "print(f'Total rise in 1880 - 1959: {total1:.2f}°C')\n",
    "print(f'Total rise in 1960 - 2020: {total2:.2f}°C')"
   ]
  },
  {
   "cell_type": "code",
   "execution_count": 161,
   "id": "3e905837",
   "metadata": {},
   "outputs": [
    {
     "data": {
      "image/png": "[encoded data removed]",
      "text/plain": [
       "<Figure size 720x504 with 1 Axes>"
      ]
     },
     "metadata": {},
     "output_type": "display_data"
    }
   ],
   "source": [
    "time0 = pd.to_datetime('1880101', format='%Y%m%d')\n",
    "time1 = pd.to_datetime('19590101', format='%Y%m%d')\n",
    "time2 = pd.to_datetime('19800101', format='%Y%m%d')\n",
    "fig, ax = plt.subplots(1, 1, figsize=(10,7))\n",
    "ax.plot(df_global_temp.index, df_global_temp[\"No_Smoothing\"],color='#32a852', marker='o',\n",
    "           markerfacecolor='white', markersize=4)\n",
    "ax.plot(df_global_temp.loc['1880-01-01':'1959-01-01'].index, trend1, color=\"#303331\")\n",
    "ax.plot(df_global_temp.loc['1960-01-01':'2020-01-01'].index, trend2, color=\"#303331\")\n",
    "ax.vlines(x=time1, ymin=-.75, ymax=1.25, color=\"grey\", linestyle='dashed', linewidth=1.2)\n",
    "ax.set_ylabel(\"°C\",loc=\"top\",rotation=0, fontsize=14)\n",
    "ax.set_ylim(-.75,1.25)\n",
    "ax.text(x=time0, y=.0, s=f\" Total Rise\\n 1880-1959: {total1:.2f}°C\", color='#303331')\n",
    "ax.text(x=time2, y=.0, s=f\" Total Rise\\n 1960-2020: {total2:.2f}°C\", color='#303331')\n",
    "#ax.legend(labels=[\"Global mean Temperature\",\"\",\"\",\"\"])\n",
    "plt.suptitle(\"Global Mean Temperature Anomaly\", fontsize=16)\n",
    "plt.title(\"Linear trends before and after 1960\", fontsize=12);\n",
    "plt.savefig(\"../plots/day5_slope.png\");"
   ]
  },
  {
   "cell_type": "code",
   "execution_count": null,
   "id": "8db30a28",
   "metadata": {},
   "outputs": [],
   "source": []
  }
 ],
 "metadata": {
  "kernelspec": {
   "display_name": "Python 3",
   "language": "python",
   "name": "python3"
  },
  "language_info": {
   "codemirror_mode": {
    "name": "ipython",
    "version": 3
   },
   "file_extension": ".py",
   "mimetype": "text/x-python",
   "name": "python",
   "nbconvert_exporter": "python",
   "pygments_lexer": "ipython3",
   "version": "3.8.8"
  }
 },
 "nbformat": 4,
 "nbformat_minor": 5
}

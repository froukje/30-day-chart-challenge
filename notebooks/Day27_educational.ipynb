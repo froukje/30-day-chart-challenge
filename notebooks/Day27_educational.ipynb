{
 "cells": [
  {
   "cell_type": "markdown",
   "id": "16c13e8c",
   "metadata": {},
   "source": [
    "# Objective\n",
    "\n",
    "**Day 27 of the [#30DayChartChallenge challenge](https://github.com/Z3tt/30DayChartChallenge_Collection2021/blob/main/README.md)**\n",
    "\n",
    "**Topic: 27. educational**\n",
    "\n",
    "Used Dataset: https://unicode.org/emoji/charts/full-emoji-list.html\n",
    "\n",
    "Source: https://youtu.be/tObLQTlFB1o"
   ]
  },
  {
   "cell_type": "markdown",
   "id": "6bbb456d",
   "metadata": {},
   "source": [
    "# Setup"
   ]
  },
  {
   "cell_type": "code",
   "execution_count": 1,
   "id": "ab0ffa3e",
   "metadata": {},
   "outputs": [],
   "source": [
    "import ipywidgets as widgets"
   ]
  },
  {
   "cell_type": "markdown",
   "id": "774f775f",
   "metadata": {},
   "source": [
    "# Data"
   ]
  },
  {
   "cell_type": "code",
   "execution_count": 2,
   "id": "cea6cb52",
   "metadata": {},
   "outputs": [],
   "source": [
    "items = {'Melons': '\\U0001F349', 'Oranges': '\\U0001F34A', 'Apples': '\\U0001F34F', 'Cherries': '\\U0001F352'}"
   ]
  },
  {
   "cell_type": "code",
   "execution_count": 3,
   "id": "0a082fc8",
   "metadata": {},
   "outputs": [
    {
     "name": "stdout",
     "output_type": "stream",
     "text": [
      "{'Melons': '🍉', 'Oranges': '🍊', 'Apples': '🍏', 'Cherries': '🍒'}\n"
     ]
    }
   ],
   "source": [
    "print(items)"
   ]
  },
  {
   "cell_type": "code",
   "execution_count": 16,
   "id": "06793bbd",
   "metadata": {},
   "outputs": [],
   "source": [
    "def viz_calc_function(calculated_item, **kwargs):\n",
    "    bag = []\n",
    "    for key, value in kwargs.items():\n",
    "        item = items[str(key)]\n",
    "        while bag.count(item) <= value-1:\n",
    "            bag.append(item)\n",
    "            \n",
    "    bag_n = len(bag)\n",
    "    if bag_n > 0:\n",
    "        percentage = round(bag.count(items[calculated_item])/bag_n*100)\n",
    "        print(f'The total numer of items in the bag is {bag_n}')\n",
    "        print(f'The exact or rounded percentage of {calculated_item} is {percentage}%')\n",
    "    elif bag_n == 0:\n",
    "        print(f'The bag is empty. Add some items.')\n",
    "    else:\n",
    "        print('Oh oh! Something went wrong!')\n",
    "    \n",
    "    [print(i) for i in bag]"
   ]
  },
  {
   "cell_type": "code",
   "execution_count": 17,
   "id": "59d0d2f3",
   "metadata": {},
   "outputs": [],
   "source": [
    "# Sliders\n",
    "melons_slider = widgets.IntSlider(value=0, min=0, max=10, description='Melons:')\n",
    "oranges_slider = widgets.IntSlider(value=0, min=0, max=10, description='Oranges:')\n",
    "apples_slider = widgets.IntSlider(value=0, min=0, max=10, description='Apples:')\n",
    "cherries_slider = widgets.IntSlider(value=0, min=0, max=10, description='Cherries:')"
   ]
  },
  {
   "cell_type": "code",
   "execution_count": 18,
   "id": "3ff46210",
   "metadata": {},
   "outputs": [],
   "source": [
    "item_selection = widgets.ToggleButtons(options=['Melons', 'Oranges', 'Apples', 'Cherries'],\n",
    "                                       description='Calculate %')"
   ]
  },
  {
   "cell_type": "code",
   "execution_count": 19,
   "id": "8a7a9096",
   "metadata": {},
   "outputs": [
    {
     "data": {
      "application/vnd.jupyter.widget-view+json": {
       "model_id": "b0fd14883e254689aabfd9f7a54d95d0",
       "version_major": 2,
       "version_minor": 0
      },
      "text/plain": [
       "interactive(children=(ToggleButtons(description='Calculate %', options=('Melons', 'Oranges', 'Apples', 'Cherri…"
      ]
     },
     "metadata": {},
     "output_type": "display_data"
    }
   ],
   "source": [
    "widgets.interact(viz_calc_function, \n",
    "                 calculated_item=item_selection,\n",
    "                 Melons=melons_slider,\n",
    "                 Oranges=oranges_slider,\n",
    "                 Apples=apples_slider,\n",
    "                 Cherries=cherries_slider);"
   ]
  },
  {
   "cell_type": "code",
   "execution_count": null,
   "id": "541abda3",
   "metadata": {},
   "outputs": [],
   "source": []
  }
 ],
 "metadata": {
  "kernelspec": {
   "display_name": "Python 3",
   "language": "python",
   "name": "python3"
  },
  "language_info": {
   "codemirror_mode": {
    "name": "ipython",
    "version": 3
   },
   "file_extension": ".py",
   "mimetype": "text/x-python",
   "name": "python",
   "nbconvert_exporter": "python",
   "pygments_lexer": "ipython3",
   "version": "3.8.8"
  }
 },
 "nbformat": 4,
 "nbformat_minor": 5
}

{
 "cells": [
  {
   "cell_type": "markdown",
   "id": "48b922c9",
   "metadata": {},
   "source": [
    "# Objective\n",
    "\n",
    "**Day 11 of the [#30DayChartChallenge challenge](https://github.com/Z3tt/30DayChartChallenge_Collection2021/blob/main/README.md)**\n",
    "\n",
    "**Topic: 11. circular**\n",
    "\n",
    "Used Dataset: self"
   ]
  },
  {
   "cell_type": "markdown",
   "id": "04082368",
   "metadata": {},
   "source": [
    "# Setup"
   ]
  },
  {
   "cell_type": "code",
   "execution_count": 1,
   "id": "dff6bb28",
   "metadata": {},
   "outputs": [],
   "source": [
    "import matplotlib.pyplot as plt"
   ]
  },
  {
   "cell_type": "markdown",
   "id": "dd14eaa7",
   "metadata": {},
   "source": [
    "# Plot"
   ]
  },
  {
   "cell_type": "code",
   "execution_count": 3,
   "id": "f75488e1",
   "metadata": {},
   "outputs": [],
   "source": [
    "colors = ['#FF0000', '#FFA500', '#FFFF00', '#008000', '#0000FF', '#4B0082', '#EE82EE']"
   ]
  },
  {
   "cell_type": "code",
   "execution_count": 34,
   "id": "e3926075",
   "metadata": {},
   "outputs": [
    {
     "data": {
      "image/png": "[encoded data removed]",
      "text/plain": [
       "<Figure size 432x288 with 1 Axes>"
      ]
     },
     "metadata": {
      "needs_background": "light"
     },
     "output_type": "display_data"
    }
   ],
   "source": [
    "fig, ax = plt.subplots()\n",
    "\n",
    "for i, col in enumerate(colors):\n",
    "    circle = plt.Circle((.5+1/(i+1), 1), radius=.2*1/(i+1), color=col , clip_on=True)\n",
    "\n",
    "    ax.add_patch(circle);\n",
    "ax.set_aspect(1)\n",
    "ax.axis('off');\n",
    "fig.savefig('../plots/day11_circles.png')"
   ]
  },
  {
   "cell_type": "code",
   "execution_count": null,
   "id": "92d9393f",
   "metadata": {},
   "outputs": [],
   "source": []
  }
 ],
 "metadata": {
  "kernelspec": {
   "display_name": "Python 3",
   "language": "python",
   "name": "python3"
  },
  "language_info": {
   "codemirror_mode": {
    "name": "ipython",
    "version": 3
   },
   "file_extension": ".py",
   "mimetype": "text/x-python",
   "name": "python",
   "nbconvert_exporter": "python",
   "pygments_lexer": "ipython3",
   "version": "3.8.8"
  }
 },
 "nbformat": 4,
 "nbformat_minor": 5
}
